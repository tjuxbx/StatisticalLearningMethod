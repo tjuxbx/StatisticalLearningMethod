{
 "cells": [
  {
   "cell_type": "markdown",
   "metadata": {},
   "source": [
    "# 感知机学习算法原始形式"
   ]
  },
  {
   "cell_type": "code",
   "execution_count": 2,
   "metadata": {},
   "outputs": [
    {
     "name": "stdout",
     "output_type": "stream",
     "text": [
      "迭代次数\t误分类点\t\tw\t\tb\n",
      "1 \t\t x1 \t\t [[ 3.  3.]] \t\t 1\n",
      "2 \t\t x3 \t\t [[ 2.  2.]] \t\t 0\n",
      "3 \t\t x3 \t\t [[ 1.  1.]] \t\t -1\n",
      "4 \t\t x3 \t\t [[ 0.  0.]] \t\t -2\n",
      "5 \t\t x1 \t\t [[ 3.  3.]] \t\t -1\n",
      "6 \t\t x3 \t\t [[ 2.  2.]] \t\t -2\n",
      "7 \t\t x3 \t\t [[ 1.  1.]] \t\t -3\n"
     ]
    },
    {
     "data": {
      "image/png": "[encoded data removed]",
      "text/plain": [
       "<matplotlib.figure.Figure at 0x20062340278>"
      ]
     },
     "metadata": {},
     "output_type": "display_data"
    }
   ],
   "source": [
    "import random\n",
    "import numpy as np\n",
    "import matplotlib.pyplot as plt\n",
    "%matplotlib inline\n",
    "\n",
    "def preception_train(X, y, lr = 1):\n",
    "    X_size = X.shape[0] #训练集大小\n",
    "    w = np.zeros([X.shape[1],1]) #初始化w\n",
    "    b = 0 #初始化b\n",
    "    iter_count = 0 #迭代次数\n",
    "    print('迭代次数\\t误分类点\\t\\tw\\t\\tb')\n",
    "    while(True):\n",
    "        cnt = 0 #已处理点的数量 \n",
    "        for i in range(X_size):\n",
    "            if y[i]*(np.dot(w.T,X[i])+b)<=0: # 误分类点\n",
    "                #更新w和b\n",
    "                w += lr*y[i]*X[i].reshape(w.shape)\n",
    "                b += lr*y[i]\n",
    "                print(iter_count+1,'\\t\\t','x'+str(i+1),'\\t\\t',w.T, '\\t\\t', b)\n",
    "                iter_count+=1\n",
    "                break\n",
    "            cnt+=1\n",
    "        if cnt == X_size:\n",
    "            break\n",
    "    return w,b\n",
    "\n",
    "def plot_points(X, y, w, b):\n",
    "    # 绘制图像\n",
    "    plt.figure()\n",
    "    x1 = np.linspace(0, 6, 100)\n",
    "    x2 = (-b - w[0]*x1)/w[1]\n",
    "    plt.plot(x1, x2,color='r',)\n",
    "    for i in range(len(X)):\n",
    "        if (y[i] == 1):\n",
    "            plt.scatter(X[i][0],X[i][1],marker='o',color='g',s = 50)\n",
    "        else:\n",
    "            plt.scatter(X[i][0],X[i][1],marker='x',color='b',s = 50)\n",
    "\n",
    "if __name__ == '__main__':\n",
    "    X = [[3,3],[4,3],[1,1]]  \n",
    "    X = np.array(X)\n",
    "    y = [1,1,-1]\n",
    "    y = np.array(y)\n",
    "    lr = 1 #学习率\n",
    "    w, b = preception_train(X,y,lr)\n",
    "    plot_points(X,y,w,b)"
   ]
  },
  {
   "cell_type": "markdown",
   "metadata": {},
   "source": [
    "# 感知机学习算法对偶形式"
   ]
  },
  {
   "cell_type": "code",
   "execution_count": 1,
   "metadata": {},
   "outputs": [
    {
     "name": "stdout",
     "output_type": "stream",
     "text": [
      "迭代次数\t误分类点\talpha\t\tb\n",
      "1 \t\t x1 \t\t [1, 0, 0] \t 1\n",
      "2 \t\t x3 \t\t [1, 0, 1] \t 0\n",
      "3 \t\t x3 \t\t [1, 0, 2] \t -1\n",
      "4 \t\t x3 \t\t [1, 0, 3] \t -2\n",
      "5 \t\t x1 \t\t [2, 0, 3] \t -1\n",
      "6 \t\t x3 \t\t [2, 0, 4] \t -2\n",
      "7 \t\t x3 \t\t [2, 0, 5] \t -3\n"
     ]
    },
    {
     "data": {
      "image/png": "[encoded data removed]",
      "text/plain": [
       "<matplotlib.figure.Figure at 0x200625820b8>"
      ]
     },
     "metadata": {},
     "output_type": "display_data"
    }
   ],
   "source": [
    "import random\n",
    "import numpy as np\n",
    "import matplotlib.pyplot as plt\n",
    "%matplotlib inline\n",
    "\n",
    "def preception_antithesis_train(X, y, lr = 1):\n",
    "    X_size = X.shape[0] #训练集大小\n",
    "    alpha = [0 for i in range(X_size)] #初始化w\n",
    "    w = np.zeros([X.shape[1],1]) #初始化w\n",
    "    b = 0 #初始化b\n",
    "    gram = np.matmul(X, X.T) #计算gram矩阵\n",
    "    \n",
    "    iter_count = 0 #迭代次数\n",
    "    print('迭代次数\\t误分类点\\talpha\\t\\tb')\n",
    "    while(True):\n",
    "        cnt = 0 #已处理点的数量 \n",
    "        for i in range(X_size):\n",
    "            temp = 0\n",
    "            for j in range(X_size):\n",
    "                temp += alpha[j]*y[j]*gram[i][j]\n",
    "            temp += b\n",
    "            if y[i]*temp <=0: # 误分类点\n",
    "                #更新alpha[i]和b\n",
    "                alpha[i] += lr\n",
    "                b += lr*y[i]\n",
    "                print(iter_count+1,'\\t\\t','x'+str(i+1),'\\t\\t',alpha, '\\t', b)\n",
    "                iter_count+=1\n",
    "                break\n",
    "            cnt+=1\n",
    "        if cnt == X_size:\n",
    "            break\n",
    "    for i in range(X.shape[0]):\n",
    "        for j in range(X.shape[1]):\n",
    "            w[j] += alpha[i]*y[i]*X[i][j]\n",
    "    return w,b\n",
    "\n",
    "def plot_points(X, y, w, b):\n",
    "    # 绘制图像\n",
    "    plt.figure()\n",
    "    x1 = np.linspace(0, 6, 100)\n",
    "    x2 = (-b - w[0]*x1)/w[1]\n",
    "    plt.plot(x1, x2,color='black',)\n",
    "    for i in range(len(X)):\n",
    "        if (y[i] == 1):\n",
    "            plt.scatter(X[i][0],X[i][1],marker='o',color='r',s = 50)\n",
    "        else:\n",
    "            plt.scatter(X[i][0],X[i][1],marker='x',color='b',s = 50)\n",
    "\n",
    "if __name__ == '__main__':\n",
    "    X = [[3,3],[4,3],[1,1]]  \n",
    "    X = np.array(X)\n",
    "    y = [1,1,-1]\n",
    "    y = np.array(y)\n",
    "    lr = 1 #学习率\n",
    "    w, b = preception_antithesis_train(X,y,lr)\n",
    "    plot_points(X,y,w,b)"
   ]
  },
  {
   "cell_type": "code",
   "execution_count": null,
   "metadata": {
    "collapsed": true
   },
   "outputs": [],
   "source": []
  }
 ],
 "metadata": {
  "kernelspec": {
   "display_name": "Python 3",
   "language": "python",
   "name": "python3"
  },
  "language_info": {
   "codemirror_mode": {
    "name": "ipython",
    "version": 3
   },
   "file_extension": ".py",
   "mimetype": "text/x-python",
   "name": "python",
   "nbconvert_exporter": "python",
   "pygments_lexer": "ipython3",
   "version": "3.6.2"
  }
 },
 "nbformat": 4,
 "nbformat_minor": 2
}
